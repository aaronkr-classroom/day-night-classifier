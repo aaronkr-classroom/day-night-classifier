{
 "cells": [
  {
   "cell_type": "markdown",
   "metadata": {},
   "source": [
    "# Day and Night Image Classifier\n",
    "---\n",
    "\n",
    "The day/night image dataset consists of 200 RGB color images in two categories: day and night. There are equal numbers of each example: 100 day images and 100 night images.\n",
    "\n",
    "We'd like to build a classifier that can accurately label these images as day or night, and that relies on finding distinguishing features between the two types of images!\n",
    "\n",
    "*Note: All images come from the [AMOS dataset](http://cs.uky.edu/~jacobs/datasets/amos/) (Archive of Many Outdoor Scenes).*\n"
   ]
  },
  {
   "cell_type": "markdown",
   "metadata": {},
   "source": [
    "### Import resources\n",
    "\n",
    "Before you get started on the project code, import the libraries and resources that you'll need."
   ]
  },
  {
   "cell_type": "code",
   "execution_count": null,
   "metadata": {
    "collapsed": true
   },
   "outputs": [],
   "source": [
    "import cv2 # computer vision library\n",
    "import helpers\n",
    "\n",
    "import numpy as np\n",
    "import matplotlib.pyplot as plt\n",
    "import matplotlib.image as mpimg\n",
    "\n",
    "%matplotlib inline"
   ]
  },
  {
   "cell_type": "markdown",
   "metadata": {},
   "source": [
    "## Training and Testing Data\n",
    "The 200 day/night images are separated into training and testing datasets. \n",
    "\n",
    "* 60% of these images are training images, for you to use as you create a classifier.\n",
    "* 40% are test images, which will be used to test the accuracy of your classifier.\n",
    "\n",
    "First, we set some variables to keep track of some where our images are stored:\n",
    "\n",
    "    image_dir_training: the directory where our training image data is stored\n",
    "    image_dir_test: the directory where our test image data is stored"
   ]
  },
  {
   "cell_type": "code",
   "execution_count": null,
   "metadata": {
    "collapsed": true
   },
   "outputs": [],
   "source": [
    "# Image data directories\n",
    "image_dir_training = \"day_night_images/training/\"\n",
    "image_dir_test = \"day_night_images/test/\""
   ]
  },
  {
   "cell_type": "markdown",
   "metadata": {},
   "source": [
    "## Load the datasets\n",
    "\n",
    "These first few lines of code will load the training day/night images and store all of them in a variable, `IMAGE_LIST`. This list contains the images and their associated label (\"day\" or \"night\"). \n",
    "\n",
    "For example, the first image-label pair in `IMAGE_LIST` can be accessed by index: \n",
    "``` IMAGE_LIST[0][:]```.\n"
   ]
  },
  {
   "cell_type": "code",
   "execution_count": null,
   "metadata": {},
   "outputs": [],
   "source": [
    "# Using the load_dataset function in helpers.py\n",
    "# Load training data\n",
    "IMAGE_LIST = helpers.load_dataset(image_dir_training)\n"
   ]
  },
  {
   "cell_type": "markdown",
   "metadata": {},
   "source": [
    "---\n",
    "# 1. Visualize the input images\n"
   ]
  },
  {
   "cell_type": "code",
   "execution_count": null,
   "metadata": {},
   "outputs": [],
   "source": [
    "# Select an image and its label by list index\n",
    "image_index = 0\n",
    "selected_image = IMAGE_LIST[image_index][0]\n",
    "selected_label = IMAGE_LIST[image_index][1]\n",
    "\n",
    "## TODO: Print out 1. The shape of the image and 2. The image's label `selected_label`\n",
    "\n",
    "## TODO: Display a night image\n",
    "# Note the differences between the day and night images\n",
    "# Any measurable differences can be used to classify these images"
   ]
  },
  {
   "cell_type": "code",
   "execution_count": null,
   "metadata": {
    "collapsed": true
   },
   "outputs": [],
   "source": [
    "import matplotlib.pyplot as plt\n",
    "\n",
    "# Example: class1_images and class2_images should each have 6 images\n",
    "# Each image should be a NumPy array (H, W, C) or (H, W)\n",
    "# You can adapt this to load your own images as needed\n",
    "\n",
    "def visualize_two_classes(class1_images, class2_images, class1_label=\"Class 1\", class2_label=\"Class 2\"):\n",
    "    assert len(class1_images) == len(class2_images), \"Both classes must have the same number of images\"\n",
    "\n",
    "    num_images = len(class1_images)\n",
    "    fig, axes = plt.subplots(2, num_images, figsize=(3 * num_images, 6))\n",
    "\n",
    "    for i in range(num_images):\n",
    "        # Row 0: class 1\n",
    "        axes[0, i].imshow(class1_images[i], cmap='gray')\n",
    "        axes[0, i].axis('off')\n",
    "        if i == 0:\n",
    "            axes[0, i].set_title(class1_label, fontsize=14, loc='left')\n",
    "\n",
    "        # Row 1: class 2\n",
    "        axes[1, i].imshow(class2_images[i], cmap='gray')\n",
    "        axes[1, i].axis('off')\n",
    "        if i == 0:\n",
    "            axes[1, i].set_title(class2_label, fontsize=14, loc='left')\n",
    "\n",
    "    plt.tight_layout()\n",
    "    plt.show()\n"
   ]
  }
 ],
 "metadata": {
  "anaconda-cloud": {},
  "kernelspec": {
   "display_name": "Python 3",
   "language": "python",
   "name": "python3"
  },
  "language_info": {
   "codemirror_mode": {
    "name": "ipython",
    "version": 3
   },
   "file_extension": ".py",
   "mimetype": "text/x-python",
   "name": "python",
   "nbconvert_exporter": "python",
   "pygments_lexer": "ipython3",
   "version": "3.6.3"
  }
 },
 "nbformat": 4,
 "nbformat_minor": 2
}
